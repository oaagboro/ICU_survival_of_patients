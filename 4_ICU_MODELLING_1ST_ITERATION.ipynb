{
 "cells": [
  {
   "cell_type": "markdown",
   "metadata": {},
   "source": [
    "# First Iteration of Modelling"
   ]
  },
  {
   "cell_type": "code",
   "execution_count": 1,
   "metadata": {},
   "outputs": [],
   "source": [
    "# Standard Imports\n",
    "import pandas as pd\n",
    "import numpy as np\n",
    "import matplotlib.pyplot as plt\n",
    "import seaborn as sns\n",
    "\n",
    "# sklearn Libraries\n",
    "from sklearn.dummy import DummyClassifier\n",
    "from sklearn.model_selection import train_test_split, KFold, cross_val_score\n",
    "from sklearn.linear_model import LogisticRegression\n",
    "from sklearn.tree import DecisionTreeClassifier\n",
    "from sklearn.ensemble import RandomForestClassifier, GradientBoostingClassifier, AdaBoostClassifier\n",
    "from sklearn.neighbors import KNeighborsClassifier\n",
    "from sklearn.svm import SVC\n",
    "from sklearn.preprocessing import StandardScaler\n",
    "from sklearn.naive_bayes import GaussianNB\n",
    "from sklearn.metrics import roc_auc_score, confusion_matrix, plot_confusion_matrix, plot_roc_curve, classification_report"
   ]
  },
  {
   "cell_type": "code",
   "execution_count": 2,
   "metadata": {},
   "outputs": [],
   "source": [
    "# Read in the data set\n",
    "data = pd.read_pickle('./dataset/data.pkl')"
   ]
  },
  {
   "cell_type": "code",
   "execution_count": 3,
   "metadata": {},
   "outputs": [
    {
     "data": {
      "text/html": [
       "<div>\n",
       "<style scoped>\n",
       "    .dataframe tbody tr th:only-of-type {\n",
       "        vertical-align: middle;\n",
       "    }\n",
       "\n",
       "    .dataframe tbody tr th {\n",
       "        vertical-align: top;\n",
       "    }\n",
       "\n",
       "    .dataframe thead th {\n",
       "        text-align: right;\n",
       "    }\n",
       "</style>\n",
       "<table border=\"1\" class=\"dataframe\">\n",
       "  <thead>\n",
       "    <tr style=\"text-align: right;\">\n",
       "      <th></th>\n",
       "      <th>age</th>\n",
       "      <th>bmi</th>\n",
       "      <th>elective_surgery</th>\n",
       "      <th>height</th>\n",
       "      <th>pre_icu_los_days</th>\n",
       "      <th>readmission_status</th>\n",
       "      <th>weight</th>\n",
       "      <th>hospital_death</th>\n",
       "      <th>Asian</th>\n",
       "      <th>Caucasian</th>\n",
       "      <th>...</th>\n",
       "      <th>M</th>\n",
       "      <th>readmit</th>\n",
       "      <th>transfer</th>\n",
       "      <th>CSICU</th>\n",
       "      <th>CTICU</th>\n",
       "      <th>Cardiac ICU</th>\n",
       "      <th>MICU</th>\n",
       "      <th>Med-Surg ICU</th>\n",
       "      <th>Neuro ICU</th>\n",
       "      <th>SICU</th>\n",
       "    </tr>\n",
       "  </thead>\n",
       "  <tbody>\n",
       "    <tr>\n",
       "      <th>29610</th>\n",
       "      <td>82.0</td>\n",
       "      <td>27.301463</td>\n",
       "      <td>0</td>\n",
       "      <td>182.88</td>\n",
       "      <td>0.506250</td>\n",
       "      <td>0</td>\n",
       "      <td>91.31</td>\n",
       "      <td>0</td>\n",
       "      <td>0</td>\n",
       "      <td>1</td>\n",
       "      <td>...</td>\n",
       "      <td>1</td>\n",
       "      <td>0</td>\n",
       "      <td>0</td>\n",
       "      <td>0</td>\n",
       "      <td>0</td>\n",
       "      <td>0</td>\n",
       "      <td>0</td>\n",
       "      <td>0</td>\n",
       "      <td>1</td>\n",
       "      <td>0</td>\n",
       "    </tr>\n",
       "    <tr>\n",
       "      <th>30133</th>\n",
       "      <td>87.0</td>\n",
       "      <td>26.863455</td>\n",
       "      <td>0</td>\n",
       "      <td>149.86</td>\n",
       "      <td>5.456250</td>\n",
       "      <td>0</td>\n",
       "      <td>60.33</td>\n",
       "      <td>0</td>\n",
       "      <td>0</td>\n",
       "      <td>1</td>\n",
       "      <td>...</td>\n",
       "      <td>0</td>\n",
       "      <td>0</td>\n",
       "      <td>0</td>\n",
       "      <td>0</td>\n",
       "      <td>0</td>\n",
       "      <td>0</td>\n",
       "      <td>0</td>\n",
       "      <td>1</td>\n",
       "      <td>0</td>\n",
       "      <td>0</td>\n",
       "    </tr>\n",
       "    <tr>\n",
       "      <th>41937</th>\n",
       "      <td>56.0</td>\n",
       "      <td>24.538597</td>\n",
       "      <td>0</td>\n",
       "      <td>170.10</td>\n",
       "      <td>0.992361</td>\n",
       "      <td>0</td>\n",
       "      <td>71.00</td>\n",
       "      <td>0</td>\n",
       "      <td>0</td>\n",
       "      <td>1</td>\n",
       "      <td>...</td>\n",
       "      <td>1</td>\n",
       "      <td>0</td>\n",
       "      <td>0</td>\n",
       "      <td>0</td>\n",
       "      <td>0</td>\n",
       "      <td>0</td>\n",
       "      <td>0</td>\n",
       "      <td>0</td>\n",
       "      <td>0</td>\n",
       "      <td>1</td>\n",
       "    </tr>\n",
       "    <tr>\n",
       "      <th>79666</th>\n",
       "      <td>70.0</td>\n",
       "      <td>38.391891</td>\n",
       "      <td>1</td>\n",
       "      <td>147.30</td>\n",
       "      <td>1.295833</td>\n",
       "      <td>0</td>\n",
       "      <td>83.30</td>\n",
       "      <td>0</td>\n",
       "      <td>0</td>\n",
       "      <td>1</td>\n",
       "      <td>...</td>\n",
       "      <td>0</td>\n",
       "      <td>0</td>\n",
       "      <td>1</td>\n",
       "      <td>0</td>\n",
       "      <td>0</td>\n",
       "      <td>0</td>\n",
       "      <td>0</td>\n",
       "      <td>1</td>\n",
       "      <td>0</td>\n",
       "      <td>0</td>\n",
       "    </tr>\n",
       "    <tr>\n",
       "      <th>33583</th>\n",
       "      <td>50.0</td>\n",
       "      <td>25.707702</td>\n",
       "      <td>0</td>\n",
       "      <td>175.30</td>\n",
       "      <td>0.116667</td>\n",
       "      <td>0</td>\n",
       "      <td>79.00</td>\n",
       "      <td>0</td>\n",
       "      <td>0</td>\n",
       "      <td>0</td>\n",
       "      <td>...</td>\n",
       "      <td>1</td>\n",
       "      <td>0</td>\n",
       "      <td>0</td>\n",
       "      <td>0</td>\n",
       "      <td>0</td>\n",
       "      <td>0</td>\n",
       "      <td>0</td>\n",
       "      <td>1</td>\n",
       "      <td>0</td>\n",
       "      <td>0</td>\n",
       "    </tr>\n",
       "    <tr>\n",
       "      <th>15986</th>\n",
       "      <td>75.0</td>\n",
       "      <td>28.844953</td>\n",
       "      <td>1</td>\n",
       "      <td>155.00</td>\n",
       "      <td>3.500694</td>\n",
       "      <td>0</td>\n",
       "      <td>69.30</td>\n",
       "      <td>0</td>\n",
       "      <td>0</td>\n",
       "      <td>1</td>\n",
       "      <td>...</td>\n",
       "      <td>0</td>\n",
       "      <td>0</td>\n",
       "      <td>0</td>\n",
       "      <td>1</td>\n",
       "      <td>0</td>\n",
       "      <td>0</td>\n",
       "      <td>0</td>\n",
       "      <td>0</td>\n",
       "      <td>0</td>\n",
       "      <td>0</td>\n",
       "    </tr>\n",
       "    <tr>\n",
       "      <th>48917</th>\n",
       "      <td>33.0</td>\n",
       "      <td>29.257812</td>\n",
       "      <td>0</td>\n",
       "      <td>160.00</td>\n",
       "      <td>1.443750</td>\n",
       "      <td>0</td>\n",
       "      <td>74.90</td>\n",
       "      <td>0</td>\n",
       "      <td>0</td>\n",
       "      <td>0</td>\n",
       "      <td>...</td>\n",
       "      <td>0</td>\n",
       "      <td>0</td>\n",
       "      <td>0</td>\n",
       "      <td>0</td>\n",
       "      <td>0</td>\n",
       "      <td>0</td>\n",
       "      <td>0</td>\n",
       "      <td>1</td>\n",
       "      <td>0</td>\n",
       "      <td>0</td>\n",
       "    </tr>\n",
       "    <tr>\n",
       "      <th>12267</th>\n",
       "      <td>88.0</td>\n",
       "      <td>20.327692</td>\n",
       "      <td>0</td>\n",
       "      <td>167.60</td>\n",
       "      <td>0.248611</td>\n",
       "      <td>0</td>\n",
       "      <td>57.10</td>\n",
       "      <td>0</td>\n",
       "      <td>0</td>\n",
       "      <td>0</td>\n",
       "      <td>...</td>\n",
       "      <td>1</td>\n",
       "      <td>0</td>\n",
       "      <td>0</td>\n",
       "      <td>0</td>\n",
       "      <td>0</td>\n",
       "      <td>0</td>\n",
       "      <td>0</td>\n",
       "      <td>0</td>\n",
       "      <td>1</td>\n",
       "      <td>0</td>\n",
       "    </tr>\n",
       "    <tr>\n",
       "      <th>5700</th>\n",
       "      <td>29.0</td>\n",
       "      <td>20.589339</td>\n",
       "      <td>0</td>\n",
       "      <td>195.59</td>\n",
       "      <td>0.002083</td>\n",
       "      <td>0</td>\n",
       "      <td>80.80</td>\n",
       "      <td>0</td>\n",
       "      <td>0</td>\n",
       "      <td>1</td>\n",
       "      <td>...</td>\n",
       "      <td>1</td>\n",
       "      <td>0</td>\n",
       "      <td>0</td>\n",
       "      <td>0</td>\n",
       "      <td>0</td>\n",
       "      <td>0</td>\n",
       "      <td>0</td>\n",
       "      <td>1</td>\n",
       "      <td>0</td>\n",
       "      <td>0</td>\n",
       "    </tr>\n",
       "    <tr>\n",
       "      <th>63251</th>\n",
       "      <td>62.0</td>\n",
       "      <td>27.294729</td>\n",
       "      <td>0</td>\n",
       "      <td>165.10</td>\n",
       "      <td>0.279861</td>\n",
       "      <td>0</td>\n",
       "      <td>74.40</td>\n",
       "      <td>0</td>\n",
       "      <td>1</td>\n",
       "      <td>0</td>\n",
       "      <td>...</td>\n",
       "      <td>1</td>\n",
       "      <td>0</td>\n",
       "      <td>0</td>\n",
       "      <td>0</td>\n",
       "      <td>0</td>\n",
       "      <td>0</td>\n",
       "      <td>0</td>\n",
       "      <td>1</td>\n",
       "      <td>0</td>\n",
       "      <td>0</td>\n",
       "    </tr>\n",
       "  </tbody>\n",
       "</table>\n",
       "<p>10 rows × 23 columns</p>\n",
       "</div>"
      ],
      "text/plain": [
       "        age        bmi  elective_surgery  height  pre_icu_los_days  \\\n",
       "29610  82.0  27.301463                 0  182.88          0.506250   \n",
       "30133  87.0  26.863455                 0  149.86          5.456250   \n",
       "41937  56.0  24.538597                 0  170.10          0.992361   \n",
       "79666  70.0  38.391891                 1  147.30          1.295833   \n",
       "33583  50.0  25.707702                 0  175.30          0.116667   \n",
       "15986  75.0  28.844953                 1  155.00          3.500694   \n",
       "48917  33.0  29.257812                 0  160.00          1.443750   \n",
       "12267  88.0  20.327692                 0  167.60          0.248611   \n",
       "5700   29.0  20.589339                 0  195.59          0.002083   \n",
       "63251  62.0  27.294729                 0  165.10          0.279861   \n",
       "\n",
       "       readmission_status  weight  hospital_death  Asian  Caucasian  ...  M  \\\n",
       "29610                   0   91.31               0      0          1  ...  1   \n",
       "30133                   0   60.33               0      0          1  ...  0   \n",
       "41937                   0   71.00               0      0          1  ...  1   \n",
       "79666                   0   83.30               0      0          1  ...  0   \n",
       "33583                   0   79.00               0      0          0  ...  1   \n",
       "15986                   0   69.30               0      0          1  ...  0   \n",
       "48917                   0   74.90               0      0          0  ...  0   \n",
       "12267                   0   57.10               0      0          0  ...  1   \n",
       "5700                    0   80.80               0      0          1  ...  1   \n",
       "63251                   0   74.40               0      1          0  ...  1   \n",
       "\n",
       "       readmit  transfer  CSICU  CTICU  Cardiac ICU  MICU  Med-Surg ICU  \\\n",
       "29610        0         0      0      0            0     0             0   \n",
       "30133        0         0      0      0            0     0             1   \n",
       "41937        0         0      0      0            0     0             0   \n",
       "79666        0         1      0      0            0     0             1   \n",
       "33583        0         0      0      0            0     0             1   \n",
       "15986        0         0      1      0            0     0             0   \n",
       "48917        0         0      0      0            0     0             1   \n",
       "12267        0         0      0      0            0     0             0   \n",
       "5700         0         0      0      0            0     0             1   \n",
       "63251        0         0      0      0            0     0             1   \n",
       "\n",
       "       Neuro ICU  SICU  \n",
       "29610          1     0  \n",
       "30133          0     0  \n",
       "41937          0     1  \n",
       "79666          0     0  \n",
       "33583          0     0  \n",
       "15986          0     0  \n",
       "48917          0     0  \n",
       "12267          1     0  \n",
       "5700           0     0  \n",
       "63251          0     0  \n",
       "\n",
       "[10 rows x 23 columns]"
      ]
     },
     "execution_count": 3,
     "metadata": {},
     "output_type": "execute_result"
    }
   ],
   "source": [
    "# Preview a sample of the data\n",
    "data.sample(10)"
   ]
  },
  {
   "cell_type": "code",
   "execution_count": 4,
   "metadata": {},
   "outputs": [
    {
     "name": "stdout",
     "output_type": "stream",
     "text": [
      "                age           bmi  elective_surgery        height  \\\n",
      "count  82965.000000  82965.000000      82965.000000  82965.000000   \n",
      "mean      62.355897     29.358953          0.188706    169.842772   \n",
      "std       16.751005      8.315228          0.391277     10.742360   \n",
      "min       16.000000     14.844926          0.000000    137.200000   \n",
      "25%       52.000000     23.768204          0.000000    162.600000   \n",
      "50%       65.000000     27.844601          0.000000    170.100000   \n",
      "75%       75.000000     33.145212          0.000000    177.800000   \n",
      "max       89.000000     67.814990          1.000000    195.590000   \n",
      "\n",
      "       pre_icu_los_days  readmission_status        weight  hospital_death  \\\n",
      "count      82965.000000             82965.0  82965.000000    82965.000000   \n",
      "mean           0.854556                 0.0     84.682666        0.082625   \n",
      "std            2.528387                 0.0     25.065473        0.275317   \n",
      "min           -0.244444                 0.0     38.600000        0.000000   \n",
      "25%            0.038889                 0.0     67.600000        0.000000   \n",
      "50%            0.143750                 0.0     81.110000        0.000000   \n",
      "75%            0.415278                 0.0     97.800000        0.000000   \n",
      "max          159.090972                 0.0    186.000000        1.000000   \n",
      "\n",
      "              Asian     Caucasian  ...             M       readmit  \\\n",
      "count  82965.000000  82965.000000  ...  82965.000000  82965.000000   \n",
      "mean       0.012764      0.779317  ...      0.545073      0.004857   \n",
      "std        0.112257      0.414710  ...      0.497967      0.069526   \n",
      "min        0.000000      0.000000  ...      0.000000      0.000000   \n",
      "25%        0.000000      1.000000  ...      0.000000      0.000000   \n",
      "50%        0.000000      1.000000  ...      1.000000      0.000000   \n",
      "75%        0.000000      1.000000  ...      1.000000      0.000000   \n",
      "max        1.000000      1.000000  ...      1.000000      1.000000   \n",
      "\n",
      "           transfer         CSICU         CTICU   Cardiac ICU          MICU  \\\n",
      "count  82965.000000  82965.000000  82965.000000  82965.000000  82965.000000   \n",
      "mean       0.053456      0.053119      0.043175      0.052793      0.085506   \n",
      "std        0.224943      0.224272      0.203252      0.223622      0.279635   \n",
      "min        0.000000      0.000000      0.000000      0.000000      0.000000   \n",
      "25%        0.000000      0.000000      0.000000      0.000000      0.000000   \n",
      "50%        0.000000      0.000000      0.000000      0.000000      0.000000   \n",
      "75%        0.000000      0.000000      0.000000      0.000000      0.000000   \n",
      "max        1.000000      1.000000      1.000000      1.000000      1.000000   \n",
      "\n",
      "       Med-Surg ICU     Neuro ICU          SICU  \n",
      "count  82965.000000  82965.000000  82965.000000  \n",
      "mean       0.545338      0.084264      0.057229  \n",
      "std        0.497943      0.277786      0.232281  \n",
      "min        0.000000      0.000000      0.000000  \n",
      "25%        0.000000      0.000000      0.000000  \n",
      "50%        1.000000      0.000000      0.000000  \n",
      "75%        1.000000      0.000000      0.000000  \n",
      "max        1.000000      1.000000      1.000000  \n",
      "\n",
      "[8 rows x 23 columns]\n"
     ]
    }
   ],
   "source": [
    "# Statistical summary of the data\n",
    "print(data.describe())"
   ]
  },
  {
   "cell_type": "code",
   "execution_count": 5,
   "metadata": {},
   "outputs": [],
   "source": [
    "# Set up dependent and independent variables\n",
    "X = data.drop(columns = 'hospital_death', axis = 1)\n",
    "y = data['hospital_death']"
   ]
  },
  {
   "cell_type": "code",
   "execution_count": 6,
   "metadata": {},
   "outputs": [],
   "source": [
    "# Split data into train and test sets\n",
    "X_train, X_test, y_train, y_test = train_test_split(X, y, test_size=0.3, random_state=101, stratify = y)"
   ]
  },
  {
   "cell_type": "code",
   "execution_count": 7,
   "metadata": {},
   "outputs": [
    {
     "name": "stdout",
     "output_type": "stream",
     "text": [
      "X_train has  58075  rows and  22  columns.\n"
     ]
    }
   ],
   "source": [
    "# Shape of the training set\n",
    "print(\"X_train has \", X_train.shape[0], \" rows and \", X_train.shape[1], \" columns.\")"
   ]
  },
  {
   "cell_type": "code",
   "execution_count": 8,
   "metadata": {},
   "outputs": [
    {
     "name": "stdout",
     "output_type": "stream",
     "text": [
      "X_test has  24890  rows and  22  columns.\n"
     ]
    }
   ],
   "source": [
    "# Shape of testing set\n",
    "print(\"X_test has \", X_test.shape[0], \" rows and \", X_test.shape[1], \" columns.\")"
   ]
  },
  {
   "cell_type": "markdown",
   "metadata": {},
   "source": [
    "### Baseline Model"
   ]
  },
  {
   "cell_type": "code",
   "execution_count": 9,
   "metadata": {},
   "outputs": [],
   "source": [
    "# Baseline model\n",
    "dummy_clf = DummyClassifier()"
   ]
  },
  {
   "cell_type": "code",
   "execution_count": 10,
   "metadata": {},
   "outputs": [
    {
     "name": "stderr",
     "output_type": "stream",
     "text": [
      "/Users/oghenevwedeagboro-jimoh/anaconda3/lib/python3.6/site-packages/sklearn/dummy.py:132: FutureWarning: The default value of strategy will change from stratified to prior in 0.24.\n",
      "  \"stratified to prior in 0.24.\", FutureWarning)\n"
     ]
    },
    {
     "data": {
      "text/plain": [
       "DummyClassifier()"
      ]
     },
     "execution_count": 10,
     "metadata": {},
     "output_type": "execute_result"
    }
   ],
   "source": [
    "# Fit dummy classifier of training set\n",
    "dummy_clf.fit(X_train, y_train)"
   ]
  },
  {
   "cell_type": "markdown",
   "metadata": {},
   "source": [
    "### Dummy Classifier Evaluation"
   ]
  },
  {
   "cell_type": "code",
   "execution_count": 11,
   "metadata": {},
   "outputs": [
    {
     "data": {
      "text/plain": [
       "0.8501406187223784"
      ]
     },
     "execution_count": 11,
     "metadata": {},
     "output_type": "execute_result"
    }
   ],
   "source": [
    "# Score dummy classifier on test set\n",
    "dummy_clf.score(X_test, y_test)"
   ]
  },
  {
   "cell_type": "code",
   "execution_count": 12,
   "metadata": {},
   "outputs": [],
   "source": [
    "# Making predictions on test set\n",
    "dummy_preds = dummy_clf.predict(X_test)"
   ]
  },
  {
   "cell_type": "code",
   "execution_count": 13,
   "metadata": {},
   "outputs": [
    {
     "name": "stdout",
     "output_type": "stream",
     "text": [
      "              precision    recall  f1-score   support\n",
      "\n",
      "           0       0.92      0.92      0.92     22833\n",
      "           1       0.07      0.07      0.07      2057\n",
      "\n",
      "    accuracy                           0.85     24890\n",
      "   macro avg       0.49      0.49      0.49     24890\n",
      "weighted avg       0.85      0.85      0.85     24890\n",
      "\n"
     ]
    }
   ],
   "source": [
    "# Classification Report\n",
    "print(classification_report(y_test, dummy_preds))"
   ]
  },
  {
   "cell_type": "code",
   "execution_count": 14,
   "metadata": {},
   "outputs": [
    {
     "name": "stdout",
     "output_type": "stream",
     "text": [
      "AUC: 0.49\n"
     ]
    }
   ],
   "source": [
    "# roc_auc_score\n",
    "dummy_auc = roc_auc_score(y_test, dummy_preds)\n",
    "print('AUC: %.2f' % dummy_auc)"
   ]
  },
  {
   "cell_type": "code",
   "execution_count": null,
   "metadata": {},
   "outputs": [],
   "source": []
  },
  {
   "cell_type": "markdown",
   "metadata": {},
   "source": [
    "## Other Algorithms"
   ]
  },
  {
   "cell_type": "markdown",
   "metadata": {},
   "source": [
    "### LogisticRegression"
   ]
  },
  {
   "cell_type": "code",
   "execution_count": 15,
   "metadata": {},
   "outputs": [],
   "source": [
    "# Instantiate the LogisticRegression\n",
    "lr = LogisticRegression(solver = 'liblinear')"
   ]
  },
  {
   "cell_type": "code",
   "execution_count": 16,
   "metadata": {},
   "outputs": [
    {
     "data": {
      "text/plain": [
       "LogisticRegression(solver='liblinear')"
      ]
     },
     "execution_count": 16,
     "metadata": {},
     "output_type": "execute_result"
    }
   ],
   "source": [
    "# fit on training set\n",
    "lr.fit(X_train, y_train)"
   ]
  },
  {
   "cell_type": "code",
   "execution_count": 17,
   "metadata": {},
   "outputs": [
    {
     "data": {
      "text/plain": [
       "0.9169144234632383"
      ]
     },
     "execution_count": 17,
     "metadata": {},
     "output_type": "execute_result"
    }
   ],
   "source": [
    "# Score on the test set\n",
    "lr.score(X_test, y_test)"
   ]
  },
  {
   "cell_type": "code",
   "execution_count": 18,
   "metadata": {},
   "outputs": [],
   "source": [
    "# Predictions on X_test\n",
    "lr_preds = lr.predict(X_test)"
   ]
  },
  {
   "cell_type": "code",
   "execution_count": 19,
   "metadata": {},
   "outputs": [
    {
     "name": "stdout",
     "output_type": "stream",
     "text": [
      "              precision    recall  f1-score   support\n",
      "\n",
      "           0       0.92      1.00      0.96     22833\n",
      "           1       0.13      0.00      0.00      2057\n",
      "\n",
      "    accuracy                           0.92     24890\n",
      "   macro avg       0.53      0.50      0.48     24890\n",
      "weighted avg       0.85      0.92      0.88     24890\n",
      "\n"
     ]
    }
   ],
   "source": [
    "# lr Classification report\n",
    "print(classification_report(y_test,lr_preds))"
   ]
  },
  {
   "cell_type": "code",
   "execution_count": 20,
   "metadata": {},
   "outputs": [
    {
     "name": "stdout",
     "output_type": "stream",
     "text": [
      "AUC: 0.50\n"
     ]
    }
   ],
   "source": [
    "# roc_auc_score\n",
    "lr_auc = roc_auc_score(y_test, lr_preds)\n",
    "print('AUC: %.2f' % lr_auc)"
   ]
  },
  {
   "cell_type": "code",
   "execution_count": 21,
   "metadata": {},
   "outputs": [
    {
     "data": {
      "text/plain": [
       "<sklearn.metrics._plot.confusion_matrix.ConfusionMatrixDisplay at 0x7ff0be950390>"
      ]
     },
     "execution_count": 21,
     "metadata": {},
     "output_type": "execute_result"
    },
    {
     "data": {
      "image/png": "[encoded data removed]",
      "text/plain": [
       "<Figure size 432x288 with 2 Axes>"
      ]
     },
     "metadata": {
      "needs_background": "light"
     },
     "output_type": "display_data"
    }
   ],
   "source": [
    "# Confusion matrix\n",
    "plot_confusion_matrix(lr, X_test, y_test, cmap='Blues')"
   ]
  },
  {
   "cell_type": "markdown",
   "metadata": {},
   "source": [
    "### Decision Tree Classifier"
   ]
  },
  {
   "cell_type": "code",
   "execution_count": 22,
   "metadata": {},
   "outputs": [],
   "source": [
    "# Instantiate the dtc estimator\n",
    "dtc = DecisionTreeClassifier()"
   ]
  },
  {
   "cell_type": "code",
   "execution_count": 23,
   "metadata": {},
   "outputs": [
    {
     "data": {
      "text/plain": [
       "DecisionTreeClassifier()"
      ]
     },
     "execution_count": 23,
     "metadata": {},
     "output_type": "execute_result"
    }
   ],
   "source": [
    "# fit on the training set\n",
    "dtc.fit(X_train, y_train)"
   ]
  },
  {
   "cell_type": "code",
   "execution_count": 24,
   "metadata": {},
   "outputs": [
    {
     "data": {
      "text/plain": [
       "0.840980313378867"
      ]
     },
     "execution_count": 24,
     "metadata": {},
     "output_type": "execute_result"
    }
   ],
   "source": [
    "# Score the model\n",
    "dtc.score(X_test, y_test)"
   ]
  },
  {
   "cell_type": "code",
   "execution_count": 25,
   "metadata": {},
   "outputs": [],
   "source": [
    "# Predictions on X_test\n",
    "dtc_preds = dtc.predict(X_test)"
   ]
  },
  {
   "cell_type": "code",
   "execution_count": 26,
   "metadata": {},
   "outputs": [
    {
     "name": "stdout",
     "output_type": "stream",
     "text": [
      "              precision    recall  f1-score   support\n",
      "\n",
      "           0       0.92      0.91      0.91     22833\n",
      "           1       0.10      0.11      0.10      2057\n",
      "\n",
      "    accuracy                           0.84     24890\n",
      "   macro avg       0.51      0.51      0.51     24890\n",
      "weighted avg       0.85      0.84      0.85     24890\n",
      "\n"
     ]
    }
   ],
   "source": [
    "# Classification report\n",
    "print(classification_report(y_test, dtc_preds))"
   ]
  },
  {
   "cell_type": "code",
   "execution_count": 27,
   "metadata": {},
   "outputs": [
    {
     "name": "stdout",
     "output_type": "stream",
     "text": [
      "AUC: 0.51\n"
     ]
    }
   ],
   "source": [
    "# roc_auc_score\n",
    "dtc_auc = roc_auc_score(y_test, dtc_preds)\n",
    "print('AUC: %.2f' % dtc_auc)"
   ]
  },
  {
   "cell_type": "code",
   "execution_count": 28,
   "metadata": {},
   "outputs": [
    {
     "data": {
      "text/plain": [
       "<sklearn.metrics._plot.confusion_matrix.ConfusionMatrixDisplay at 0x7ff0c1411a58>"
      ]
     },
     "execution_count": 28,
     "metadata": {},
     "output_type": "execute_result"
    },
    {
     "data": {
      "image/png": "[encoded data removed]",
      "text/plain": [
       "<Figure size 432x288 with 2 Axes>"
      ]
     },
     "metadata": {
      "needs_background": "light"
     },
     "output_type": "display_data"
    }
   ],
   "source": [
    "# Confusion matrix\n",
    "plot_confusion_matrix(dtc, X_test, y_test, cmap='Blues')"
   ]
  },
  {
   "cell_type": "markdown",
   "metadata": {},
   "source": [
    "### K-Nearest Neighbors (KNN)"
   ]
  },
  {
   "cell_type": "code",
   "execution_count": 29,
   "metadata": {},
   "outputs": [],
   "source": [
    "# Instantiate the model\n",
    "knn = KNeighborsClassifier()"
   ]
  },
  {
   "cell_type": "code",
   "execution_count": 30,
   "metadata": {},
   "outputs": [],
   "source": [
    "# Instantiate the Scaler\n",
    "scaler = StandardScaler()"
   ]
  },
  {
   "cell_type": "code",
   "execution_count": 31,
   "metadata": {},
   "outputs": [],
   "source": [
    "# Scale the data\n",
    "scaled_X_train = scaler.fit_transform(X_train)\n",
    "scaled_X_test = scaler.transform(X_test)"
   ]
  },
  {
   "cell_type": "code",
   "execution_count": 32,
   "metadata": {},
   "outputs": [
    {
     "data": {
      "text/plain": [
       "KNeighborsClassifier()"
      ]
     },
     "execution_count": 32,
     "metadata": {},
     "output_type": "execute_result"
    }
   ],
   "source": [
    "# Fit the scaled data\n",
    "knn.fit(scaled_X_train, y_train)"
   ]
  },
  {
   "cell_type": "code",
   "execution_count": 33,
   "metadata": {},
   "outputs": [],
   "source": [
    "# Prediction on X_test\n",
    "knn_preds = knn.predict(scaled_X_test)"
   ]
  },
  {
   "cell_type": "code",
   "execution_count": 37,
   "metadata": {},
   "outputs": [
    {
     "data": {
      "text/plain": [
       "0.911329851345922"
      ]
     },
     "execution_count": 37,
     "metadata": {},
     "output_type": "execute_result"
    }
   ],
   "source": [
    "knn.score(scaled_X_test, y_test)"
   ]
  },
  {
   "cell_type": "code",
   "execution_count": 34,
   "metadata": {},
   "outputs": [
    {
     "name": "stdout",
     "output_type": "stream",
     "text": [
      "              precision    recall  f1-score   support\n",
      "\n",
      "           0       0.92      0.99      0.95     22833\n",
      "           1       0.17      0.02      0.03      2057\n",
      "\n",
      "    accuracy                           0.91     24890\n",
      "   macro avg       0.55      0.51      0.49     24890\n",
      "weighted avg       0.86      0.91      0.88     24890\n",
      "\n"
     ]
    }
   ],
   "source": [
    "# Classification report\n",
    "print(classification_report(y_test, knn_preds))"
   ]
  },
  {
   "cell_type": "code",
   "execution_count": 36,
   "metadata": {},
   "outputs": [
    {
     "name": "stdout",
     "output_type": "stream",
     "text": [
      "AUC: 0.51\n"
     ]
    }
   ],
   "source": [
    "# roc_auc_score\n",
    "knn_auc = roc_auc_score(y_test, knn_preds)\n",
    "print('AUC: %.2f' % knn_auc)"
   ]
  },
  {
   "cell_type": "markdown",
   "metadata": {},
   "source": [
    "### Conclusion"
   ]
  },
  {
   "cell_type": "markdown",
   "metadata": {},
   "source": [
    "The baseline model scored 85% on the test sets which isn't too far off from the scores of the other models: Logistic Regression, Decision Tree Classifier and the K-NN which scored ~91, ~84 and ~91 respectively. However, in using the AUC to evealuate the models, they perforemed just as poorly as the baseline model with an average ROC AUC Score of 0.51!. I will have to do some advanced feature engineering in other notebooks to see if I can improve on the model's performance."
   ]
  },
  {
   "cell_type": "code",
   "execution_count": null,
   "metadata": {},
   "outputs": [],
   "source": []
  }
 ],
 "metadata": {
  "kernelspec": {
   "display_name": "Python 3",
   "language": "python",
   "name": "python3"
  },
  "language_info": {
   "codemirror_mode": {
    "name": "ipython",
    "version": 3
   },
   "file_extension": ".py",
   "mimetype": "text/x-python",
   "name": "python",
   "nbconvert_exporter": "python",
   "pygments_lexer": "ipython3",
   "version": "3.6.8"
  }
 },
 "nbformat": 4,
 "nbformat_minor": 4
}
