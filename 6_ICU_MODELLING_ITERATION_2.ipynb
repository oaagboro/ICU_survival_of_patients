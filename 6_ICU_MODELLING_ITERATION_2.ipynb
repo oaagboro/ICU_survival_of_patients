{
 "cells": [
  {
   "cell_type": "markdown",
   "metadata": {},
   "source": [
    "# Second Modelling Iteration"
   ]
  },
  {
   "cell_type": "code",
   "execution_count": 83,
   "metadata": {},
   "outputs": [],
   "source": [
    "# Standard Imports\n",
    "import pandas as pd\n",
    "import numpy as np\n",
    "import matplotlib.pyplot as plt\n",
    "import seaborn as sns\n",
    "# sklearn Libraries\n",
    "from imblearn.over_sampling import SMOTE\n",
    "from lightgbm import LGBMClassifier\n",
    "from sklearn.dummy import DummyClassifier\n",
    "from sklearn.model_selection import train_test_split, KFold, cross_val_score\n",
    "from sklearn.linear_model import LogisticRegression\n",
    "from sklearn.tree import DecisionTreeClassifier\n",
    "from sklearn.ensemble import RandomForestClassifier, GradientBoostingClassifier, AdaBoostClassifier\n",
    "from sklearn.neighbors import KNeighborsClassifier\n",
    "from sklearn.svm import SVC\n",
    "from sklearn.preprocessing import StandardScaler\n",
    "from sklearn.naive_bayes import GaussianNB\n",
    "from sklearn.metrics import roc_auc_score, confusion_matrix, plot_confusion_matrix, plot_roc_curve, classification_report, accuracy_score, f1_score, matthews_corrcoef, precision_score, recall_score, roc_curve\n",
    "import warnings\n",
    "warnings.filterwarnings('ignore')"
   ]
  },
  {
   "cell_type": "code",
   "execution_count": 5,
   "metadata": {},
   "outputs": [],
   "source": [
    "# Read in the data\n",
    "data = pd.read_pickle('./dataset/data90.pkl')"
   ]
  },
  {
   "cell_type": "code",
   "execution_count": 6,
   "metadata": {},
   "outputs": [
    {
     "data": {
      "text/html": [
       "<div>\n",
       "<style scoped>\n",
       "    .dataframe tbody tr th:only-of-type {\n",
       "        vertical-align: middle;\n",
       "    }\n",
       "\n",
       "    .dataframe tbody tr th {\n",
       "        vertical-align: top;\n",
       "    }\n",
       "\n",
       "    .dataframe thead th {\n",
       "        text-align: right;\n",
       "    }\n",
       "</style>\n",
       "<table border=\"1\" class=\"dataframe\">\n",
       "  <thead>\n",
       "    <tr style=\"text-align: right;\">\n",
       "      <th></th>\n",
       "      <th>hospital_death</th>\n",
       "      <th>age</th>\n",
       "      <th>elective_surgery</th>\n",
       "      <th>height</th>\n",
       "      <th>readmission_status</th>\n",
       "      <th>albumin_apache</th>\n",
       "      <th>apache_2_diagnosis</th>\n",
       "      <th>apache_3j_diagnosis</th>\n",
       "      <th>apache_post_operative</th>\n",
       "      <th>arf_apache</th>\n",
       "      <th>...</th>\n",
       "      <th>hospital_admit_source_ICU</th>\n",
       "      <th>hospital_admit_source_ICU to SDU</th>\n",
       "      <th>hospital_admit_source_Observation</th>\n",
       "      <th>hospital_admit_source_Operating Room</th>\n",
       "      <th>hospital_admit_source_Other</th>\n",
       "      <th>hospital_admit_source_Other Hospital</th>\n",
       "      <th>hospital_admit_source_Other ICU</th>\n",
       "      <th>hospital_admit_source_PACU</th>\n",
       "      <th>hospital_admit_source_Recovery Room</th>\n",
       "      <th>hospital_admit_source_Step-Down Unit (SDU)</th>\n",
       "    </tr>\n",
       "  </thead>\n",
       "  <tbody>\n",
       "    <tr>\n",
       "      <th>0</th>\n",
       "      <td>0</td>\n",
       "      <td>68.0</td>\n",
       "      <td>0</td>\n",
       "      <td>180.3</td>\n",
       "      <td>0</td>\n",
       "      <td>2.3</td>\n",
       "      <td>113.0</td>\n",
       "      <td>502.01</td>\n",
       "      <td>0</td>\n",
       "      <td>0.0</td>\n",
       "      <td>...</td>\n",
       "      <td>0</td>\n",
       "      <td>0</td>\n",
       "      <td>0</td>\n",
       "      <td>0</td>\n",
       "      <td>0</td>\n",
       "      <td>0</td>\n",
       "      <td>0</td>\n",
       "      <td>0</td>\n",
       "      <td>0</td>\n",
       "      <td>0</td>\n",
       "    </tr>\n",
       "    <tr>\n",
       "      <th>1</th>\n",
       "      <td>0</td>\n",
       "      <td>77.0</td>\n",
       "      <td>0</td>\n",
       "      <td>160.0</td>\n",
       "      <td>0</td>\n",
       "      <td>3.1</td>\n",
       "      <td>108.0</td>\n",
       "      <td>203.01</td>\n",
       "      <td>0</td>\n",
       "      <td>0.0</td>\n",
       "      <td>...</td>\n",
       "      <td>0</td>\n",
       "      <td>0</td>\n",
       "      <td>0</td>\n",
       "      <td>0</td>\n",
       "      <td>0</td>\n",
       "      <td>0</td>\n",
       "      <td>0</td>\n",
       "      <td>0</td>\n",
       "      <td>0</td>\n",
       "      <td>0</td>\n",
       "    </tr>\n",
       "    <tr>\n",
       "      <th>2</th>\n",
       "      <td>0</td>\n",
       "      <td>25.0</td>\n",
       "      <td>0</td>\n",
       "      <td>172.7</td>\n",
       "      <td>0</td>\n",
       "      <td>3.1</td>\n",
       "      <td>122.0</td>\n",
       "      <td>703.03</td>\n",
       "      <td>0</td>\n",
       "      <td>0.0</td>\n",
       "      <td>...</td>\n",
       "      <td>0</td>\n",
       "      <td>0</td>\n",
       "      <td>0</td>\n",
       "      <td>0</td>\n",
       "      <td>0</td>\n",
       "      <td>0</td>\n",
       "      <td>0</td>\n",
       "      <td>0</td>\n",
       "      <td>0</td>\n",
       "      <td>0</td>\n",
       "    </tr>\n",
       "    <tr>\n",
       "      <th>3</th>\n",
       "      <td>0</td>\n",
       "      <td>81.0</td>\n",
       "      <td>1</td>\n",
       "      <td>165.1</td>\n",
       "      <td>0</td>\n",
       "      <td>3.1</td>\n",
       "      <td>203.0</td>\n",
       "      <td>1206.03</td>\n",
       "      <td>1</td>\n",
       "      <td>0.0</td>\n",
       "      <td>...</td>\n",
       "      <td>0</td>\n",
       "      <td>0</td>\n",
       "      <td>0</td>\n",
       "      <td>1</td>\n",
       "      <td>0</td>\n",
       "      <td>0</td>\n",
       "      <td>0</td>\n",
       "      <td>0</td>\n",
       "      <td>0</td>\n",
       "      <td>0</td>\n",
       "    </tr>\n",
       "    <tr>\n",
       "      <th>4</th>\n",
       "      <td>0</td>\n",
       "      <td>19.0</td>\n",
       "      <td>0</td>\n",
       "      <td>188.0</td>\n",
       "      <td>0</td>\n",
       "      <td>3.1</td>\n",
       "      <td>119.0</td>\n",
       "      <td>601.01</td>\n",
       "      <td>0</td>\n",
       "      <td>0.0</td>\n",
       "      <td>...</td>\n",
       "      <td>0</td>\n",
       "      <td>0</td>\n",
       "      <td>0</td>\n",
       "      <td>0</td>\n",
       "      <td>0</td>\n",
       "      <td>0</td>\n",
       "      <td>0</td>\n",
       "      <td>0</td>\n",
       "      <td>0</td>\n",
       "      <td>0</td>\n",
       "    </tr>\n",
       "  </tbody>\n",
       "</table>\n",
       "<p>5 rows × 228 columns</p>\n",
       "</div>"
      ],
      "text/plain": [
       "   hospital_death   age  elective_surgery  height  readmission_status  \\\n",
       "0               0  68.0                 0   180.3                   0   \n",
       "1               0  77.0                 0   160.0                   0   \n",
       "2               0  25.0                 0   172.7                   0   \n",
       "3               0  81.0                 1   165.1                   0   \n",
       "4               0  19.0                 0   188.0                   0   \n",
       "\n",
       "   albumin_apache  apache_2_diagnosis  apache_3j_diagnosis  \\\n",
       "0             2.3               113.0               502.01   \n",
       "1             3.1               108.0               203.01   \n",
       "2             3.1               122.0               703.03   \n",
       "3             3.1               203.0              1206.03   \n",
       "4             3.1               119.0               601.01   \n",
       "\n",
       "   apache_post_operative  arf_apache  ...  hospital_admit_source_ICU  \\\n",
       "0                      0         0.0  ...                          0   \n",
       "1                      0         0.0  ...                          0   \n",
       "2                      0         0.0  ...                          0   \n",
       "3                      1         0.0  ...                          0   \n",
       "4                      0         0.0  ...                          0   \n",
       "\n",
       "   hospital_admit_source_ICU to SDU  hospital_admit_source_Observation  \\\n",
       "0                                 0                                  0   \n",
       "1                                 0                                  0   \n",
       "2                                 0                                  0   \n",
       "3                                 0                                  0   \n",
       "4                                 0                                  0   \n",
       "\n",
       "   hospital_admit_source_Operating Room  hospital_admit_source_Other  \\\n",
       "0                                     0                            0   \n",
       "1                                     0                            0   \n",
       "2                                     0                            0   \n",
       "3                                     1                            0   \n",
       "4                                     0                            0   \n",
       "\n",
       "   hospital_admit_source_Other Hospital  hospital_admit_source_Other ICU  \\\n",
       "0                                     0                                0   \n",
       "1                                     0                                0   \n",
       "2                                     0                                0   \n",
       "3                                     0                                0   \n",
       "4                                     0                                0   \n",
       "\n",
       "   hospital_admit_source_PACU  hospital_admit_source_Recovery Room  \\\n",
       "0                           0                                    0   \n",
       "1                           0                                    0   \n",
       "2                           0                                    0   \n",
       "3                           0                                    0   \n",
       "4                           0                                    0   \n",
       "\n",
       "   hospital_admit_source_Step-Down Unit (SDU)  \n",
       "0                                           0  \n",
       "1                                           0  \n",
       "2                                           0  \n",
       "3                                           0  \n",
       "4                                           0  \n",
       "\n",
       "[5 rows x 228 columns]"
      ]
     },
     "execution_count": 6,
     "metadata": {},
     "output_type": "execute_result"
    }
   ],
   "source": [
    "# Preview the first 5 rows\n",
    "data.head()"
   ]
  },
  {
   "cell_type": "code",
   "execution_count": 7,
   "metadata": {},
   "outputs": [
    {
     "name": "stdout",
     "output_type": "stream",
     "text": [
      "       hospital_death           age  elective_surgery        height  \\\n",
      "count    91713.000000  91713.000000      91713.000000  91713.000000   \n",
      "mean         0.086302     62.433548          0.183736    169.648256   \n",
      "std          0.280811     16.393595          0.387271     10.716719   \n",
      "min          0.000000     16.000000          0.000000    137.200000   \n",
      "25%          0.000000     53.000000          0.000000    162.560000   \n",
      "50%          0.000000     65.000000          0.000000    170.100000   \n",
      "75%          0.000000     75.000000          0.000000    177.800000   \n",
      "max          1.000000     89.000000          1.000000    195.590000   \n",
      "\n",
      "       readmission_status  albumin_apache  apache_2_diagnosis  \\\n",
      "count             91713.0    91713.000000        91713.000000   \n",
      "mean                  0.0        3.019793          184.089693   \n",
      "std                   0.0        0.445681           85.812818   \n",
      "min                   0.0        1.200000          101.000000   \n",
      "25%                   0.0        3.100000          113.000000   \n",
      "50%                   0.0        3.100000          122.000000   \n",
      "75%                   0.0        3.100000          301.000000   \n",
      "max                   0.0        4.600000          308.000000   \n",
      "\n",
      "       apache_3j_diagnosis  apache_post_operative    arf_apache  ...  \\\n",
      "count         91713.000000           91713.000000  91713.000000  ...   \n",
      "mean            557.530103               0.201106      0.027761  ...   \n",
      "std             460.519921               0.400829      0.164287  ...   \n",
      "min               0.010000               0.000000      0.000000  ...   \n",
      "25%             203.010000               0.000000      0.000000  ...   \n",
      "50%             410.010000               0.000000      0.000000  ...   \n",
      "75%             703.030000               0.000000      0.000000  ...   \n",
      "max            2201.050000               1.000000      1.000000  ...   \n",
      "\n",
      "       hospital_admit_source_ICU  hospital_admit_source_ICU to SDU  \\\n",
      "count               91713.000000                      91713.000000   \n",
      "mean                    0.000382                          0.000491   \n",
      "std                     0.019532                          0.022146   \n",
      "min                     0.000000                          0.000000   \n",
      "25%                     0.000000                          0.000000   \n",
      "50%                     0.000000                          0.000000   \n",
      "75%                     0.000000                          0.000000   \n",
      "max                     1.000000                          1.000000   \n",
      "\n",
      "       hospital_admit_source_Observation  \\\n",
      "count                       91713.000000   \n",
      "mean                            0.000109   \n",
      "std                             0.010442   \n",
      "min                             0.000000   \n",
      "25%                             0.000000   \n",
      "50%                             0.000000   \n",
      "75%                             0.000000   \n",
      "max                             1.000000   \n",
      "\n",
      "       hospital_admit_source_Operating Room  hospital_admit_source_Other  \\\n",
      "count                          91713.000000                 91713.000000   \n",
      "mean                               0.106713                     0.000076   \n",
      "std                                0.308750                     0.008736   \n",
      "min                                0.000000                     0.000000   \n",
      "25%                                0.000000                     0.000000   \n",
      "50%                                0.000000                     0.000000   \n",
      "75%                                0.000000                     0.000000   \n",
      "max                                1.000000                     1.000000   \n",
      "\n",
      "       hospital_admit_source_Other Hospital  hospital_admit_source_Other ICU  \\\n",
      "count                          91713.000000                     91713.000000   \n",
      "mean                               0.017893                         0.002541   \n",
      "std                                0.132562                         0.050340   \n",
      "min                                0.000000                         0.000000   \n",
      "25%                                0.000000                         0.000000   \n",
      "50%                                0.000000                         0.000000   \n",
      "75%                                0.000000                         0.000000   \n",
      "max                                1.000000                         1.000000   \n",
      "\n",
      "       hospital_admit_source_PACU  hospital_admit_source_Recovery Room  \\\n",
      "count                91713.000000                         91713.000000   \n",
      "mean                     0.011089                             0.031577   \n",
      "std                      0.104719                             0.174871   \n",
      "min                      0.000000                             0.000000   \n",
      "25%                      0.000000                             0.000000   \n",
      "50%                      0.000000                             0.000000   \n",
      "75%                      0.000000                             0.000000   \n",
      "max                      1.000000                             1.000000   \n",
      "\n",
      "       hospital_admit_source_Step-Down Unit (SDU)  \n",
      "count                                91713.000000  \n",
      "mean                                     0.012332  \n",
      "std                                      0.110363  \n",
      "min                                      0.000000  \n",
      "25%                                      0.000000  \n",
      "50%                                      0.000000  \n",
      "75%                                      0.000000  \n",
      "max                                      1.000000  \n",
      "\n",
      "[8 rows x 228 columns]\n"
     ]
    }
   ],
   "source": [
    "# Statistical summary of the data\n",
    "print(data.describe())"
   ]
  },
  {
   "cell_type": "code",
   "execution_count": 8,
   "metadata": {},
   "outputs": [],
   "source": [
    "# Set up dependent and independent variables\n",
    "X = data.drop(columns = 'hospital_death', axis = 1)\n",
    "y = data['hospital_death']"
   ]
  },
  {
   "cell_type": "code",
   "execution_count": 62,
   "metadata": {},
   "outputs": [],
   "source": [
    "# Split data into train and test sets\n",
    "X_train, X_test, y_train, y_test = train_test_split(X, y, test_size=0.3, random_state=101, stratify = y)"
   ]
  },
  {
   "cell_type": "code",
   "execution_count": 10,
   "metadata": {},
   "outputs": [
    {
     "name": "stdout",
     "output_type": "stream",
     "text": [
      "X_train has  64199  rows and  227  columns.\n"
     ]
    }
   ],
   "source": [
    "# Shape of the training set\n",
    "print(\"X_train has \", X_train.shape[0], \" rows and \", X_train.shape[1], \" columns.\")"
   ]
  },
  {
   "cell_type": "code",
   "execution_count": 11,
   "metadata": {},
   "outputs": [
    {
     "name": "stdout",
     "output_type": "stream",
     "text": [
      "X_test has  27514  rows and  227  columns.\n"
     ]
    }
   ],
   "source": [
    "# Shape of testing set\n",
    "print(\"X_test has \", X_test.shape[0], \" rows and \", X_test.shape[1], \" columns.\")"
   ]
  },
  {
   "cell_type": "markdown",
   "metadata": {},
   "source": [
    "### Baseline Model"
   ]
  },
  {
   "cell_type": "code",
   "execution_count": 12,
   "metadata": {},
   "outputs": [],
   "source": [
    "# # Baseline model\n"
   ]
  },
  {
   "cell_type": "code",
   "execution_count": null,
   "metadata": {},
   "outputs": [],
   "source": []
  },
  {
   "cell_type": "code",
   "execution_count": 13,
   "metadata": {},
   "outputs": [],
   "source": [
    "# # Fit dummy classifier of training set\n",
    "# dummy_clf.fit(X_train, y_train)"
   ]
  },
  {
   "cell_type": "code",
   "execution_count": 14,
   "metadata": {},
   "outputs": [],
   "source": [
    "# # Score dummy classifier on test set\n",
    "# dummy_clf.score(X_test, y_test)"
   ]
  },
  {
   "cell_type": "code",
   "execution_count": 15,
   "metadata": {},
   "outputs": [],
   "source": [
    "# # Making predictions on test set\n",
    "# dummy_preds = dummy_clf.predict(X_test)"
   ]
  },
  {
   "cell_type": "code",
   "execution_count": 16,
   "metadata": {},
   "outputs": [],
   "source": [
    "# # Classification Report\n",
    "# print(classification_report(y_test, dummy_preds))"
   ]
  },
  {
   "cell_type": "code",
   "execution_count": 17,
   "metadata": {},
   "outputs": [],
   "source": [
    "# # roc_auc_score\n",
    "# dummy_auc = roc_auc_score(y_test, dummy_preds)\n",
    "# print('AUC: %.2f' % dummy_auc)"
   ]
  },
  {
   "cell_type": "markdown",
   "metadata": {},
   "source": [
    "### Logistic Regression"
   ]
  },
  {
   "cell_type": "code",
   "execution_count": 18,
   "metadata": {},
   "outputs": [],
   "source": [
    "# Build a generic classify function"
   ]
  },
  {
   "cell_type": "code",
   "execution_count": 19,
   "metadata": {},
   "outputs": [],
   "source": [
    "def classify(est, X_train, y_train, X_test, y_test):\n",
    "    # Passing the model and train_test dataset to fit the model\n",
    "    est.fit(X_train, y_train)\n",
    "    \n",
    "    # Predicting the probability of the test data\n",
    "    y2 = est.predict_proba(X_test)\n",
    "    y_pred = est.predict(X_test)\n",
    "    \n",
    "    # Evaluation of models\n",
    "    print('Accuracy: ',accuracy_score(y_test, y_pred))\n",
    "    print('Area under the ROC curve: ',roc_auc_score(y_test, y2[:, 1]))\n",
    "    \n",
    "    \n",
    "    # Calculate differect metrics\n",
    "    print('F1-score: ',f1_score(y_test, y_pred))\n",
    "    print(' ')\n",
    "    print('Classification report: ')\n",
    "    print(classification_report(y_test, y_pred))\n",
    "    print(' ')\n",
    "    print('Evaluation by cross-validation:')\n",
    "    print(cross_val_score(est, X_train, y_train))\n",
    "    print('\\n')\n",
    "    print('\\n')\n",
    "    print('Confusion Matrix: ')\n",
    "    print(plot_confusion_matrix(est, X_test, y_test, cmap = 'YlOrBr'))\n",
    "    \n",
    "    return est, y_pred, y2[:, 1]"
   ]
  },
  {
   "cell_type": "code",
   "execution_count": 24,
   "metadata": {},
   "outputs": [
    {
     "name": "stdout",
     "output_type": "stream",
     "text": [
      "Accuracy:  0.8448062804390493\n",
      "Area under the ROC curve:  0.4951358698269202\n",
      "F1-score:  0.09380305602716468\n",
      " \n",
      "Classification report: \n",
      "              precision    recall  f1-score   support\n",
      "\n",
      "           0       0.91      0.92      0.92     25139\n",
      "           1       0.09      0.09      0.09      2375\n",
      "\n",
      "    accuracy                           0.84     27514\n",
      "   macro avg       0.50      0.50      0.50     27514\n",
      "weighted avg       0.84      0.84      0.84     27514\n",
      "\n",
      " \n",
      "Evaluation by cross-validation:\n",
      "[0.8423676  0.84338006 0.84314642 0.84602804 0.84266687]\n",
      "\n",
      "\n",
      "\n",
      "\n",
      "Confusion Matrix: \n",
      "<sklearn.metrics._plot.confusion_matrix.ConfusionMatrixDisplay object at 0x7ff06f7980b8>\n"
     ]
    },
    {
     "data": {
      "image/png": "[encoded data removed]",
      "text/plain": [
       "<Figure size 432x288 with 2 Axes>"
      ]
     },
     "metadata": {
      "needs_background": "light"
     },
     "output_type": "display_data"
    }
   ],
   "source": [
    "## Baseline Model\n",
    "dummy, y_d, y_d2 = classify(DummyClassifier(), X_train, y_train, X_test, y_test)"
   ]
  },
  {
   "cell_type": "code",
   "execution_count": 20,
   "metadata": {},
   "outputs": [
    {
     "name": "stdout",
     "output_type": "stream",
     "text": [
      "Accuracy:  0.9271643526931744\n",
      "Area under the ROC curve:  0.8838141616821001\n",
      "F1-score:  0.4191304347826087\n",
      " \n",
      "Classification report: \n",
      "              precision    recall  f1-score   support\n",
      "\n",
      "           0       0.94      0.99      0.96     25139\n",
      "           1       0.67      0.30      0.42      2375\n",
      "\n",
      "    accuracy                           0.93     27514\n",
      "   macro avg       0.81      0.65      0.69     27514\n",
      "weighted avg       0.91      0.93      0.91     27514\n",
      "\n",
      " \n",
      "Evaluation by cross-validation:\n",
      "[0.9271028  0.92655763 0.92725857 0.92484424 0.92764234]\n",
      "\n",
      "\n",
      "\n",
      "\n",
      "Confusion Matrix: \n",
      "<sklearn.metrics._plot.confusion_matrix.ConfusionMatrixDisplay object at 0x7ff0b1d8c400>\n"
     ]
    },
    {
     "data": {
      "image/png": "[encoded data removed]",
      "text/plain": [
       "<Figure size 432x288 with 2 Axes>"
      ]
     },
     "metadata": {
      "needs_background": "light"
     },
     "output_type": "display_data"
    }
   ],
   "source": [
    "# LogisticRegression\n",
    "\n",
    "logit, y_p, y_p2 = classify(LogisticRegression(solver = 'liblinear'), X_train, y_train, X_test, y_test)"
   ]
  },
  {
   "cell_type": "code",
   "execution_count": 21,
   "metadata": {},
   "outputs": [
    {
     "name": "stdout",
     "output_type": "stream",
     "text": [
      "Accuracy:  0.9309079014319983\n",
      "Area under the ROC curve:  0.8935264267514724\n",
      "F1-score:  0.4497829232995658\n",
      " \n",
      "Classification report: \n",
      "              precision    recall  f1-score   support\n",
      "\n",
      "           0       0.94      0.99      0.96     25139\n",
      "           1       0.72      0.33      0.45      2375\n",
      "\n",
      "    accuracy                           0.93     27514\n",
      "   macro avg       0.83      0.66      0.71     27514\n",
      "weighted avg       0.92      0.93      0.92     27514\n",
      "\n",
      " \n",
      "Evaluation by cross-validation:\n",
      "[0.93123053 0.92975078 0.92897196 0.92601246 0.93215983]\n",
      "\n",
      "\n",
      "\n",
      "\n",
      "Confusion Matrix: \n",
      "<sklearn.metrics._plot.confusion_matrix.ConfusionMatrixDisplay object at 0x7ff0a72e2d68>\n"
     ]
    },
    {
     "data": {
      "image/png": "[encoded data removed]",
      "text/plain": [
       "<Figure size 432x288 with 2 Axes>"
      ]
     },
     "metadata": {
      "needs_background": "light"
     },
     "output_type": "display_data"
    }
   ],
   "source": [
    "# Gradientboosting Classifier\n",
    "gboost, y_pred_1, y_pred_2 = classify(GradientBoostingClassifier(), X_train, y_train, X_test, y_test)"
   ]
  },
  {
   "cell_type": "code",
   "execution_count": 22,
   "metadata": {},
   "outputs": [
    {
     "name": "stdout",
     "output_type": "stream",
     "text": [
      "Accuracy:  0.9301083084974922\n",
      "Area under the ROC curve:  0.8801398372417777\n",
      "F1-score:  0.4146118721461187\n",
      " \n",
      "Classification report: \n",
      "              precision    recall  f1-score   support\n",
      "\n",
      "           0       0.94      0.99      0.96     25139\n",
      "           1       0.75      0.29      0.41      2375\n",
      "\n",
      "    accuracy                           0.93     27514\n",
      "   macro avg       0.84      0.64      0.69     27514\n",
      "weighted avg       0.92      0.93      0.92     27514\n",
      "\n",
      " \n",
      "Evaluation by cross-validation:\n",
      "[0.9288162  0.92920561 0.92788162 0.92694704 0.9310694 ]\n",
      "\n",
      "\n",
      "\n",
      "\n",
      "Confusion Matrix: \n",
      "<sklearn.metrics._plot.confusion_matrix.ConfusionMatrixDisplay object at 0x7ff06f681828>\n"
     ]
    },
    {
     "data": {
      "image/png": "[encoded data removed]",
      "text/plain": [
       "<Figure size 432x288 with 2 Axes>"
      ]
     },
     "metadata": {
      "needs_background": "light"
     },
     "output_type": "display_data"
    }
   ],
   "source": [
    "# RandomForest Classifier\n",
    "rfc, y_pred_3, y_pred_3 = classify(RandomForestClassifier(), X_train, y_train, X_test, y_test)"
   ]
  },
  {
   "cell_type": "code",
   "execution_count": 25,
   "metadata": {},
   "outputs": [
    {
     "name": "stdout",
     "output_type": "stream",
     "text": [
      "Accuracy:  0.8813694846260086\n",
      "Area under the ROC curve:  0.6464566819012606\n",
      "F1-score:  0.345367027677497\n",
      " \n",
      "Classification report: \n",
      "              precision    recall  f1-score   support\n",
      "\n",
      "           0       0.94      0.93      0.93     25139\n",
      "           1       0.33      0.36      0.35      2375\n",
      "\n",
      "    accuracy                           0.88     27514\n",
      "   macro avg       0.63      0.65      0.64     27514\n",
      "weighted avg       0.89      0.88      0.88     27514\n",
      "\n",
      " \n",
      "Evaluation by cross-validation:\n",
      "[0.88403427 0.88154206 0.88738318 0.87936137 0.8855051 ]\n",
      "\n",
      "\n",
      "\n",
      "\n",
      "Confusion Matrix: \n",
      "<sklearn.metrics._plot.confusion_matrix.ConfusionMatrixDisplay object at 0x7ff06f883860>\n"
     ]
    },
    {
     "data": {
      "image/png": "[encoded data removed]",
      "text/plain": [
       "<Figure size 432x288 with 2 Axes>"
      ]
     },
     "metadata": {
      "needs_background": "light"
     },
     "output_type": "display_data"
    }
   ],
   "source": [
    "# Decision Tree Classifier\n",
    "dtc, y_pred4, y_pred4 = classify(DecisionTreeClassifier(), X_train, y_train, X_test, y_test)"
   ]
  },
  {
   "cell_type": "code",
   "execution_count": 26,
   "metadata": {},
   "outputs": [
    {
     "name": "stdout",
     "output_type": "stream",
     "text": [
      "Accuracy:  0.8306316784182598\n",
      "Area under the ROC curve:  0.8330044363863236\n",
      "F1-score:  0.3988648090815273\n",
      " \n",
      "Classification report: \n",
      "              precision    recall  f1-score   support\n",
      "\n",
      "           0       0.96      0.85      0.90     25139\n",
      "           1       0.29      0.65      0.40      2375\n",
      "\n",
      "    accuracy                           0.83     27514\n",
      "   macro avg       0.63      0.75      0.65     27514\n",
      "weighted avg       0.90      0.83      0.86     27514\n",
      "\n",
      " \n",
      "Evaluation by cross-validation:\n",
      "[0.82943925 0.82990654 0.83271028 0.82827103 0.83651375]\n",
      "\n",
      "\n",
      "\n",
      "\n",
      "Confusion Matrix: \n",
      "<sklearn.metrics._plot.confusion_matrix.ConfusionMatrixDisplay object at 0x7ff06f6d03c8>\n"
     ]
    },
    {
     "data": {
      "image/png": "[encoded data removed]",
      "text/plain": [
       "<Figure size 432x288 with 2 Axes>"
      ]
     },
     "metadata": {
      "needs_background": "light"
     },
     "output_type": "display_data"
    }
   ],
   "source": [
    "# Naive Bayes\n",
    "nbc, y_nbp, ynbp = classify(GaussianNB(), X_train, y_train, X_test, y_test)"
   ]
  },
  {
   "cell_type": "code",
   "execution_count": 27,
   "metadata": {},
   "outputs": [
    {
     "name": "stdout",
     "output_type": "stream",
     "text": [
      "Accuracy:  0.9271280075597877\n",
      "Area under the ROC curve:  0.8850062117783022\n",
      "F1-score:  0.45053439298437925\n",
      " \n",
      "Classification report: \n",
      "              precision    recall  f1-score   support\n",
      "\n",
      "           0       0.94      0.98      0.96     25139\n",
      "           1       0.65      0.35      0.45      2375\n",
      "\n",
      "    accuracy                           0.93     27514\n",
      "   macro avg       0.79      0.66      0.71     27514\n",
      "weighted avg       0.92      0.93      0.92     27514\n",
      "\n",
      " \n",
      "Evaluation by cross-validation:\n",
      "[0.92515576 0.92476636 0.92616822 0.92352025 0.92873277]\n",
      "\n",
      "\n",
      "\n",
      "\n",
      "Confusion Matrix: \n",
      "<sklearn.metrics._plot.confusion_matrix.ConfusionMatrixDisplay object at 0x7ff06f7d2d30>\n"
     ]
    },
    {
     "data": {
      "image/png": "[encoded data removed]",
      "text/plain": [
       "<Figure size 432x288 with 2 Axes>"
      ]
     },
     "metadata": {
      "needs_background": "light"
     },
     "output_type": "display_data"
    }
   ],
   "source": [
    "# Adaptive Boosting\n",
    "ada, ada_pred1, ada_pred2 = classify(AdaBoostClassifier(), X_train, y_train, X_test, y_test)"
   ]
  },
  {
   "cell_type": "code",
   "execution_count": 29,
   "metadata": {},
   "outputs": [],
   "source": [
    "# Instantiate Scaler Object\n",
    "scaler = StandardScaler()"
   ]
  },
  {
   "cell_type": "code",
   "execution_count": 30,
   "metadata": {},
   "outputs": [],
   "source": [
    "# Scale data\n",
    "scaled_X_train = scaler.fit_transform(X_train)\n",
    "scaled_X_test = scaler.transform(X_test)"
   ]
  },
  {
   "cell_type": "code",
   "execution_count": 36,
   "metadata": {},
   "outputs": [],
   "source": [
    "# LightGBM Classifier\n",
    "lgb = LGBMClassifier()"
   ]
  },
  {
   "cell_type": "code",
   "execution_count": 38,
   "metadata": {},
   "outputs": [],
   "source": [
    "fit_model = lgb.fit(scaled_X_train, y_train)"
   ]
  },
  {
   "cell_type": "code",
   "execution_count": 40,
   "metadata": {},
   "outputs": [],
   "source": [
    "y_pred = fit_model.predict(scaled_X_test)"
   ]
  },
  {
   "cell_type": "code",
   "execution_count": 41,
   "metadata": {},
   "outputs": [
    {
     "name": "stdout",
     "output_type": "stream",
     "text": [
      "              precision    recall  f1-score   support\n",
      "\n",
      "           0       0.94      0.99      0.96     25139\n",
      "           1       0.72      0.35      0.47      2375\n",
      "\n",
      "    accuracy                           0.93     27514\n",
      "   macro avg       0.83      0.67      0.72     27514\n",
      "weighted avg       0.92      0.93      0.92     27514\n",
      "\n"
     ]
    }
   ],
   "source": [
    "print(classification_report(y_test, y_pred))"
   ]
  },
  {
   "cell_type": "code",
   "execution_count": 42,
   "metadata": {},
   "outputs": [
    {
     "data": {
      "text/plain": [
       "<sklearn.metrics._plot.confusion_matrix.ConfusionMatrixDisplay at 0x7ff06ffd06d8>"
      ]
     },
     "execution_count": 42,
     "metadata": {},
     "output_type": "execute_result"
    },
    {
     "data": {
      "image/png": "[encoded data removed]",
      "text/plain": [
       "<Figure size 432x288 with 2 Axes>"
      ]
     },
     "metadata": {
      "needs_background": "light"
     },
     "output_type": "display_data"
    }
   ],
   "source": [
    "plot_confusion_matrix(lgb, scaled_X_test, y_test, cmap = 'YlOrBr')"
   ]
  },
  {
   "cell_type": "code",
   "execution_count": 45,
   "metadata": {},
   "outputs": [
    {
     "name": "stdout",
     "output_type": "stream",
     "text": [
      "0.6677522825720572\n"
     ]
    }
   ],
   "source": [
    "print(roc_auc_score(y_test, y_pred))"
   ]
  },
  {
   "cell_type": "code",
   "execution_count": 80,
   "metadata": {},
   "outputs": [],
   "source": [
    "# # To predict the ROC curve for various models and find the best one\n",
    "\n",
    "def run_models(X_train, y_train, X_test, y_test):\n",
    "    clfs = {'GradientBoosting': GradientBoostingClassifier(max_depth = 6, n_estimators = 100, max_features = 0.3),\n",
    "           'LogisticRegression': LogisticRegression(solver = 'saga', max_iter = 50, C = 1),\n",
    "           'RandomForestClassifier': RandomForestClassifier(max_depth = 6, n_jobs = -1, n_estimators = 100),\n",
    "           'AdaBoosting': AdaBoostClassifier(n_estimators = 100),\n",
    "           #'LightGBM': LGBMClassifier(n_estimators = 50, n_jobs = -1),\n",
    "           'DecisionTreeClassifier': DecisionTreeClassifier(max_depth = 6),\n",
    "           }\n",
    "    \n",
    "    cols = ['model', 'matthews_corrcoef', 'roc_auc_score','precision', 'recall', 'f1_score']\n",
    "    \n",
    "    models_report = pd.DataFrame(columns = cols)\n",
    "    \n",
    "    conf_matrix = dict()\n",
    "    \n",
    "    for clf, clf_name in zip(clfs.values(), clfs.keys()):\n",
    "        \n",
    "        clf.fit(X_train, y_train)\n",
    "        \n",
    "        y_pred = clf.predict(X_test)\n",
    "        y_score = clf.predict_proba(X_test)[:, 1]\n",
    "        \n",
    "        # print('Computing {} {} '.format(clf_name))\n",
    "        \n",
    "        tmp = pd.Series({#'model_type': model_type,\n",
    "                        'model': clf_name,\n",
    "                        'ROC AUC SCORE': roc_auc_score(y_test, y_score),\n",
    "                        'Matthews Corr Coef': matthews_corrcoef(y_test, y_pred),\n",
    "                        'Precision Score': precision_score(y_test, y_pred),\n",
    "                        'Recall Score': recall_score(y_test, y_pred),\n",
    "                        'F1 Score': f1_score(y_test, y_pred)})\n",
    "        \n",
    "        models_report = models_report.append(tmp, ignore_index = True)\n",
    "        conf_matrix [clf_name] = pd.crosstab(y_test, y_pred, rownames = ['True'], colnames = ['Predicted'], margins = False)\n",
    "        fpr, tpr, thresholds = roc_curve(y_test, y_score, drop_intermediate = False, pos_label = 1)\n",
    "        \n",
    "        plt.figure(1, figsize=(6, 6))\n",
    "        plt.xlabel('False positive rate')\n",
    "        plt.ylabel('True positive rate')\n",
    "        plt.title('ROC Curves for All Classifiers')\n",
    "        plt.plot(fpr, tpr, label = clf_name)\n",
    "        plt.legend(loc = 2, prop = {'size' :11})\n",
    "    plt.plot([0,1], [0,1], color = 'black')\n",
    "    \n",
    "    return models_report, conf_matrix"
   ]
  },
  {
   "cell_type": "code",
   "execution_count": 81,
   "metadata": {},
   "outputs": [
    {
     "data": {
      "image/png": "[encoded data removed]",
      "text/plain": [
       "<Figure size 432x432 with 1 Axes>"
      ]
     },
     "metadata": {
      "needs_background": "light"
     },
     "output_type": "display_data"
    }
   ],
   "source": [
    "models_report, conf_matrix = run_models(X_train, y_train, X_test, y_test)"
   ]
  },
  {
   "cell_type": "code",
   "execution_count": 82,
   "metadata": {},
   "outputs": [
    {
     "name": "stdout",
     "output_type": "stream",
     "text": [
      "                    model matthews_corrcoef roc_auc_score precision recall  \\\n",
      "0        GradientBoosting               NaN           NaN       NaN    NaN   \n",
      "1      LogisticRegression               NaN           NaN       NaN    NaN   \n",
      "2  RandomForestClassifier               NaN           NaN       NaN    NaN   \n",
      "3             AdaBoosting               NaN           NaN       NaN    NaN   \n",
      "4  DecisionTreeClassifier               NaN           NaN       NaN    NaN   \n",
      "\n",
      "  f1_score  F1 Score  Matthews Corr Coef  Precision Score  ROC AUC SCORE  \\\n",
      "0      NaN  0.467222            0.461352         0.686531       0.896954   \n",
      "1      NaN  0.234359            0.280223         0.654440       0.826616   \n",
      "2      NaN  0.297418            0.363685         0.815094       0.875869   \n",
      "3      NaN  0.455440            0.443318         0.649260       0.890399   \n",
      "4      NaN  0.315618            0.350662         0.699422       0.841589   \n",
      "\n",
      "   Recall Score  \n",
      "0      0.354105  \n",
      "1      0.142737  \n",
      "2      0.181895  \n",
      "3      0.350737  \n",
      "4      0.203789  \n"
     ]
    }
   ],
   "source": [
    "print(models_report)"
   ]
  },
  {
   "cell_type": "markdown",
   "metadata": {},
   "source": [
    "### Third Modelling Iteration"
   ]
  },
  {
   "cell_type": "code",
   "execution_count": 84,
   "metadata": {},
   "outputs": [],
   "source": [
    "# Instantiate the SMOTE Object for resampling\n",
    "smt = SMOTE()\n",
    "# X_train, y_train\n",
    "X_train_sm, y_train_sm = smt.fit_resample(X_train, y_train)"
   ]
  },
  {
   "cell_type": "code",
   "execution_count": 85,
   "metadata": {},
   "outputs": [
    {
     "data": {
      "image/png": "[encoded data removed]",
      "text/plain": [
       "<Figure size 432x432 with 1 Axes>"
      ]
     },
     "metadata": {
      "needs_background": "light"
     },
     "output_type": "display_data"
    }
   ],
   "source": [
    "# Second Models report\n",
    "models_report2, conf_matrix2 = run_models(X_train_sm, y_train_sm, X_test, y_test)"
   ]
  },
  {
   "cell_type": "code",
   "execution_count": 88,
   "metadata": {},
   "outputs": [
    {
     "name": "stdout",
     "output_type": "stream",
     "text": [
      "                    model matthews_corrcoef roc_auc_score precision recall  \\\n",
      "0        GradientBoosting               NaN           NaN       NaN    NaN   \n",
      "1      LogisticRegression               NaN           NaN       NaN    NaN   \n",
      "2  RandomForestClassifier               NaN           NaN       NaN    NaN   \n",
      "3             AdaBoosting               NaN           NaN       NaN    NaN   \n",
      "4  DecisionTreeClassifier               NaN           NaN       NaN    NaN   \n",
      "\n",
      "  f1_score  F1 Score  Matthews Corr Coef  Precision Score  ROC AUC SCORE  \\\n",
      "0      NaN  0.475120            0.437615         0.550139       0.877485   \n",
      "1      NaN  0.356054            0.323156         0.234192       0.837093   \n",
      "2      NaN  0.407531            0.368286         0.288698       0.857060   \n",
      "3      NaN  0.428933            0.375082         0.429658       0.848226   \n",
      "4      NaN  0.381564            0.322879         0.291899       0.832448   \n",
      "\n",
      "   Recall Score  \n",
      "0      0.418105  \n",
      "1      0.742316  \n",
      "2      0.692632  \n",
      "3      0.428211  \n",
      "4      0.550737  \n"
     ]
    }
   ],
   "source": [
    "print(models_report2)"
   ]
  },
  {
   "cell_type": "code",
   "execution_count": null,
   "metadata": {},
   "outputs": [],
   "source": []
  }
 ],
 "metadata": {
  "kernelspec": {
   "display_name": "Python 3",
   "language": "python",
   "name": "python3"
  },
  "language_info": {
   "codemirror_mode": {
    "name": "ipython",
    "version": 3
   },
   "file_extension": ".py",
   "mimetype": "text/x-python",
   "name": "python",
   "nbconvert_exporter": "python",
   "pygments_lexer": "ipython3",
   "version": "3.6.8"
  }
 },
 "nbformat": 4,
 "nbformat_minor": 4
}
